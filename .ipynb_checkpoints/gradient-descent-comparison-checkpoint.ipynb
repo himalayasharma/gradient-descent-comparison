{
 "cells": [
  {
   "cell_type": "code",
   "execution_count": 293,
   "id": "ff6da0dd",
   "metadata": {},
   "outputs": [],
   "source": [
    "import numpy as np\n",
    "import time"
   ]
  },
  {
   "cell_type": "code",
   "execution_count": 294,
   "id": "cc4611b8",
   "metadata": {},
   "outputs": [],
   "source": [
    "np.random.seed(42)\n",
    "X = np.random.rand(100,1)\n",
    "X_b = np.c_[X, np.ones((100,1))]"
   ]
  },
  {
   "cell_type": "code",
   "execution_count": 295,
   "id": "27a449e6",
   "metadata": {},
   "outputs": [
    {
     "name": "stdout",
     "output_type": "stream",
     "text": [
      "(2, 1)\n"
     ]
    }
   ],
   "source": [
    "params = np.array([[2], [3]])\n",
    "print(params.shape)"
   ]
  },
  {
   "cell_type": "code",
   "execution_count": 296,
   "id": "c7cb192b",
   "metadata": {},
   "outputs": [],
   "source": [
    "y = np.dot(X_b, params) + np.random.rand(100,1)"
   ]
  },
  {
   "cell_type": "code",
   "execution_count": 297,
   "id": "c9757454",
   "metadata": {},
   "outputs": [
    {
     "data": {
      "text/plain": [
       "<matplotlib.collections.PathCollection at 0x7f3f4fdac460>"
      ]
     },
     "execution_count": 297,
     "metadata": {},
     "output_type": "execute_result"
    },
    {
     "data": {
      "image/png": "[encoded data removed]",
      "text/plain": [
       "<Figure size 432x288 with 1 Axes>"
      ]
     },
     "metadata": {
      "needs_background": "light"
     },
     "output_type": "display_data"
    }
   ],
   "source": [
    "import matplotlib.pyplot as plt\n",
    "\n",
    "plt.scatter(X,y)"
   ]
  },
  {
   "cell_type": "markdown",
   "id": "1a0b9126",
   "metadata": {},
   "source": [
    "# Batch GD"
   ]
  },
  {
   "cell_type": "code",
   "execution_count": 329,
   "id": "12781944",
   "metadata": {},
   "outputs": [
    {
     "name": "stdout",
     "output_type": "stream",
     "text": [
      "Batch Gradient Descent params: [[1.90644966]\n",
      " [3.54396671]]\n",
      "Total time taken: 0.016283273696899414 seconds\n"
     ]
    }
   ],
   "source": [
    "tolerance = 0.2\n",
    "\n",
    "eta = 0.01\n",
    "n_epochs = 1000\n",
    "m = len(X_b)\n",
    "theta = np.random.rand(2,1)\n",
    "\n",
    "tic = time.time()\n",
    "for i in range(n_epochs):\n",
    "    gradients = 2/m*np.dot(np.transpose(X_b), np.dot(X_b, theta) - y)\n",
    "    theta -= eta*gradients\n",
    "    \n",
    "    if(np.all(abs(theta - params) < tolerance)):\n",
    "        break\n",
    "        \n",
    "toc = time.time()\n",
    "print(f\"Batch Gradient Descent params: {theta}\")\n",
    "print(f\"Total time taken: {toc - tic} seconds\")"
   ]
  }
 ],
 "metadata": {
  "kernelspec": {
   "display_name": "Python 3 (ipykernel)",
   "language": "python",
   "name": "python3"
  },
  "language_info": {
   "codemirror_mode": {
    "name": "ipython",
    "version": 3
   },
   "file_extension": ".py",
   "mimetype": "text/x-python",
   "name": "python",
   "nbconvert_exporter": "python",
   "pygments_lexer": "ipython3",
   "version": "3.8.10"
  }
 },
 "nbformat": 4,
 "nbformat_minor": 5
}
